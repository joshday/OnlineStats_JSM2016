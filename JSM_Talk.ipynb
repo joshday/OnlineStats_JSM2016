{
 "cells": [
  {
   "cell_type": "code",
   "execution_count": 2,
   "metadata": {
    "collapsed": false,
    "slideshow": {
     "slide_type": "skip"
    }
   },
   "outputs": [
    {
     "data": {
      "text/plain": [
       "Plots.PyPlotBackend()"
      ]
     },
     "execution_count": 2,
     "metadata": {},
     "output_type": "execute_result"
    }
   ],
   "source": [
    "using OnlineStats\n",
    "using Plots\n",
    "pyplot()"
   ]
  },
  {
   "cell_type": "code",
   "execution_count": 3,
   "metadata": {
    "collapsed": false,
    "slideshow": {
     "slide_type": "skip"
    }
   },
   "outputs": [],
   "source": [
    "# using StatsBase\n",
    "# data = readcsv(\"HIGGS.csv\")\n",
    "\n",
    "# rows = sample(1:11_000_000, 11_000_000, replace = false)\n",
    "# train = rows[1:7_000_000]\n",
    "# test = rows[7_000_001:end]\n",
    "\n",
    "# ytrain = data[train, 1]\n",
    "# xtrain = data[train, 2:end]\n",
    "# ytest = data[test, 1]\n",
    "# xtest = data[test, 2:end]\n",
    "\n",
    "# data = 0;"
   ]
  },
  {
   "cell_type": "code",
   "execution_count": 4,
   "metadata": {
    "collapsed": false,
    "slideshow": {
     "slide_type": "skip"
    }
   },
   "outputs": [],
   "source": [
    "# ytrain2 = zeros(length(ytrain), 2)\n",
    "\n",
    "# for i in 1:size(ytrain2, 2)\n",
    "#     if ytrain[i] == 1.0\n",
    "#         ytrain2[i, 1] = 1.0\n",
    "#     else\n",
    "#         ytrain2[i, 2] = 1.0\n",
    "#     end\n",
    "# end"
   ]
  },
  {
   "cell_type": "code",
   "execution_count": 5,
   "metadata": {
    "collapsed": false,
    "scrolled": false,
    "slideshow": {
     "slide_type": "slide"
    }
   },
   "outputs": [],
   "source": [
    "# o = StatLearn(size(xtrain, 2), LogisticRegression(), RidgePenalty(.01), LearningRate(.7))\n",
    "# plt = plot(coef(o)', legend=false, xguide=\"nobs\", yguide=\"value\")\n",
    "# @time maprows(10_000, xtrain, ytrain) do xi, yi\n",
    "#     fit!(o, xi, yi)\n",
    "#     push!(plt, nobs(o), coef(o))\n",
    "# end\n",
    "# png(plt, \"big.png\")"
   ]
  },
  {
   "cell_type": "code",
   "execution_count": 6,
   "metadata": {
    "collapsed": false,
    "slideshow": {
     "slide_type": "skip"
    }
   },
   "outputs": [],
   "source": [
    "# # Streaming\n",
    "# n = 1000\n",
    "# x = 1:n\n",
    "# y = .01 * x + randn(n)\n",
    "\n",
    "# plt = plot(zeros(1, 2), seriestype = [:line :scatter], legend = false, ms = 2, w = 3)\n",
    "# o = Mean(ExponentialWeight(.1))\n",
    "\n",
    "# anim = @animate for i in 1:n\n",
    "#     yi = y[i]\n",
    "#     fit!(o, yi)\n",
    "#     push!(plt, i, [mean(o), yi])\n",
    "#     end every 5\n",
    "# gif(anim, \"stream.gif\", fps = 30);"
   ]
  },
  {
   "cell_type": "code",
   "execution_count": 7,
   "metadata": {
    "collapsed": false,
    "slideshow": {
     "slide_type": "skip"
    }
   },
   "outputs": [],
   "source": [
    "# # Streaming Weights\n",
    "# n = 1000\n",
    "# x = 1:n\n",
    "# y = .01 * x + randn(n)\n",
    "\n",
    "# plt = plot(zeros(1, 3), seriestype = [:line :line :scatter], legend = false, ms = 2, w = 3)\n",
    "# o = Mean(ExponentialWeight(.1))\n",
    "# o2 = Mean()\n",
    "\n",
    "# anim = @animate for i in 1:n\n",
    "#     yi = y[i]\n",
    "#     fit!(o, yi)\n",
    "#     fit!(o2, yi)\n",
    "#     push!(plt, i, [mean(o), mean(o2), yi])\n",
    "#     end every 5\n",
    "# gif(anim, \"streamweight.gif\", fps = 30);"
   ]
  },
  {
   "cell_type": "code",
   "execution_count": 8,
   "metadata": {
    "collapsed": false,
    "slideshow": {
     "slide_type": "skip"
    }
   },
   "outputs": [],
   "source": [
    "# # Weight Plot\n",
    "# o1 = EqualWeight()\n",
    "# o2 = ExponentialWeight(.2)\n",
    "# o3 = BoundedEqualWeight(.2)\n",
    "# o4 = LearningRate(.5)\n",
    "# ovec = [o1, o2, o3, o4]\n",
    "# map(OnlineStats.updatecounter!, ovec)\n",
    "# plt_wt = plot([0], map(OnlineStats.weight, ovec)', w = 3,\n",
    "# label = [\"EqualWeight\" \"ExponentialWeight(.2)\" \"BoundedEqualWeight(.2)\" \"LearningRate(.5)\"],\n",
    "# xlabel = \"nobs\", ylabel = \"weight value\", layout = 4, ylims = (0, 1))\n",
    "# for i in 1:50\n",
    "#     for o in ovec\n",
    "#         OnlineStats.updatecounter!(o)\n",
    "#     end\n",
    "#     push!(plt_wt, nobs(o1), map(OnlineStats.weight, ovec))\n",
    "# end\n",
    "# png(plt_wt, \"plt_wt.png\")"
   ]
  },
  {
   "cell_type": "code",
   "execution_count": 9,
   "metadata": {
    "collapsed": false,
    "slideshow": {
     "slide_type": "skip"
    }
   },
   "outputs": [],
   "source": [
    "# # Changing Model Plot\n",
    "# y = -cumsum(rand(1000)) + 30 * randn(1000)\n",
    "# o1 = Mean(EqualWeight())\n",
    "# o2 = Mean(ExponentialWeight(.1))\n",
    "# plt_mean1 = plot([0], [0.0 0.0], label = [\"EqualWeight\" \"ExponentialWeight\"], w = 2, \n",
    "# xlab = \"time\", ylab = \"value\", title = \"changing model\", legend = false)\n",
    "# maprows(10, y) do yi\n",
    "#     fit!(o1, yi)\n",
    "#     fit!(o2, yi)\n",
    "#     push!(plt_mean1, nobs(o1), [mean(o1), mean(o2)])\n",
    "# end\n",
    "# scatter!(plt_mean1, y, markersize = .5);\n",
    "# # Constant model plot\n",
    "# y = 30 * randn(1000)\n",
    "# o1 = Mean(EqualWeight())\n",
    "# o2 = Mean(ExponentialWeight(.1))\n",
    "# plt_mean2 = plot([0], [0.0 0.0], label = [\"EqualWeight\" \"ExponentialWeight\"], w = 2, \n",
    "# xlab = \"time\", ylab = \"value\", title = \"constant model\", legend = false)\n",
    "# maprows(10, y) do yi\n",
    "#     fit!(o1, yi)\n",
    "#     fit!(o2, yi)\n",
    "#     push!(plt_mean2, nobs(o1), [mean(o1), mean(o2)])\n",
    "# end\n",
    "# scatter!(plt_mean2, y, markersize = .5);\n",
    "# plt_change = plot(plt_mean1, plt_mean2)\n",
    "# png(plt_change, \"plt_change.png\")"
   ]
  },
  {
   "cell_type": "code",
   "execution_count": 10,
   "metadata": {
    "collapsed": false,
    "slideshow": {
     "slide_type": "skip"
    }
   },
   "outputs": [],
   "source": [
    "# # SGD update plots\n",
    "# using DataGenerator\n",
    "# x, y, β = linregdata(1_000, 5);\n",
    "# x2, y2, β2 = linregdata(1_000, 5);\n",
    "# # \"standard\" update\n",
    "# o = StatLearn(size(x, 2), SGD(), intercept = false)\n",
    "# plt_sgd1 = plot([0], [loss(o, x2, y2)], xlab = \"nobs\", ylab = \"loss\", ylims = (0, 2), title=\"Singleton Updates\")\n",
    "# maprows(10, x, y) do xi, yi\n",
    "#     fit!(o, xi, yi); push!(plt_sgd1, nobs(o), [loss(o, x2, y2)])\n",
    "# end\n",
    "# # batch update\n",
    "# o = StatLearn(size(x, 2), SGD(), intercept = false)\n",
    "# plt_sgd2 = plot([0], [loss(o, x2, y2)], xlab = \"nobs\", ylab = \"loss\", ylims = (0, 2), title=\"Minibatch Updates\")\n",
    "# maprows(10, x, y) do xi, yi\n",
    "#     fit!(o, xi, yi, 10); push!(plt_sgd2, nobs(o), [loss(o, x2, y2)])\n",
    "# end\n",
    "# # override weight\n",
    "# o = StatLearn(size(x, 2), SGD(), intercept = false)\n",
    "# plt_sgd3 = plot([0], [loss(o, x2, y2)], xlab = \"nobs\", ylab = \"loss\", ylims = (0, 2), title=\"Constant weight\")\n",
    "# maprows(10, x, y) do xi, yi\n",
    "#     fit!(o, xi, yi, .001); push!(plt_sgd3, nobs(o), [loss(o, x2, y2)])\n",
    "# end\n",
    "# sgd_plots = plot(plt_sgd1, plt_sgd2, plt_sgd3, layout = (1, 3), size = (900,400))\n",
    "# png(sgd_plots, \"sgd_plots.png\")"
   ]
  },
  {
   "cell_type": "code",
   "execution_count": 11,
   "metadata": {
    "collapsed": false,
    "slideshow": {
     "slide_type": "skip"
    }
   },
   "outputs": [],
   "source": [
    "# # MM Plot\n",
    "# f(x) = x ^ 2\n",
    "# g(x, a) = f(x) + 0.5 * (x - a) ^ 2\n",
    "# gmin(a) = a / 3\n",
    "\n",
    "# θ = 3.\n",
    "# plt_mm = plot([f, x->g(x, θ)], -1, 4, w = 3, label = [\"f\" \"g\"])\n",
    "# vline!([θ], w = 3, label = \"theta_old\")\n",
    "# vline!([gmin(θ)], w = 3, label = \"theta_new\")\n",
    "# png(plt_mm, \"plt_mm.png\")"
   ]
  },
  {
   "cell_type": "markdown",
   "metadata": {
    "slideshow": {
     "slide_type": "slide"
    }
   },
   "source": [
    "# OnlineStats.jl\n",
    "\n",
    "##### Statistics for Streaming and Big Data\n",
    "\n",
    "https://github.com/joshday/OnlineStats.jl\n",
    "\n",
    "Josh Day (`@joshday`)"
   ]
  },
  {
   "cell_type": "markdown",
   "metadata": {
    "slideshow": {
     "slide_type": "slide"
    }
   },
   "source": [
    "# Credit\n",
    "\n",
    "- Mainly developed by me \n",
    "- Major contributions from Tom Breloff\n",
    "    - Plots.jl\n",
    "- Borrowed/stolen code from John Myles White's StreamStats.jl"
   ]
  },
  {
   "cell_type": "markdown",
   "metadata": {
    "slideshow": {
     "slide_type": "slide"
    }
   },
   "source": [
    "# Why Julia?\n",
    "\n",
    "- My background is R with some C++ and Python\n",
    "- Two years ago, I spent a weekend learning Julia with https://github.com/joshday/AverageShiftedHistograms.jl\n",
    "- Soon after, actively using it for research"
   ]
  },
  {
   "cell_type": "markdown",
   "metadata": {
    "slideshow": {
     "slide_type": "slide"
    }
   },
   "source": [
    "# Clean Syntax\n",
    "\n",
    "```r\n",
    "f <- function(x) {\n",
    "    if (!is.matrix(x)) {\n",
    "        stop(\"x should be a matrix\")\n",
    "    }\n",
    "    # do something\n",
    "}\n",
    "```\n",
    "\n",
    "```julia\n",
    "function f(x::Matrix)\n",
    "    # do something\n",
    "end\n",
    "```"
   ]
  },
  {
   "cell_type": "markdown",
   "metadata": {
    "slideshow": {
     "slide_type": "slide"
    }
   },
   "source": [
    "# Macros"
   ]
  },
  {
   "cell_type": "code",
   "execution_count": 15,
   "metadata": {
    "collapsed": false
   },
   "outputs": [
    {
     "name": "stdout",
     "output_type": "stream",
     "text": [
      "  0.000099 seconds (10 allocations: 464 bytes)\n"
     ]
    },
    {
     "data": {
      "text/plain": [
       "■ Variance{EqualWeight}\n",
       "  >     value: 1.0140508502043182\n",
       "  >      nobs: 10000\n"
      ]
     },
     "execution_count": 15,
     "metadata": {},
     "output_type": "execute_result"
    }
   ],
   "source": [
    "y = randn(10000)\n",
    "@time OnlineStats.Variance(y)"
   ]
  },
  {
   "cell_type": "markdown",
   "metadata": {
    "slideshow": {
     "slide_type": "slide"
    }
   },
   "source": [
    "# JIT Compilation"
   ]
  },
  {
   "cell_type": "code",
   "execution_count": 13,
   "metadata": {
    "collapsed": false,
    "scrolled": true
   },
   "outputs": [
    {
     "name": "stdout",
     "output_type": "stream",
     "text": [
      "\n",
      "define i64 @julia_f_22139(i64) {\n",
      "top:\n",
      "  %1 = mul i64 %0, %0\n",
      "  ret i64 %1\n",
      "}\n"
     ]
    }
   ],
   "source": [
    "f(x) = x ^ 2\n",
    "@code_llvm f(1)"
   ]
  },
  {
   "cell_type": "code",
   "execution_count": 14,
   "metadata": {
    "collapsed": false
   },
   "outputs": [
    {
     "name": "stdout",
     "output_type": "stream",
     "text": [
      "\n",
      "define double @julia_f_22144(double) {\n",
      "top:\n",
      "  %1 = fmul double %0, %0\n",
      "  ret double %1\n",
      "}\n"
     ]
    }
   ],
   "source": [
    "@code_llvm f(1.)"
   ]
  },
  {
   "cell_type": "markdown",
   "metadata": {
    "slideshow": {
     "slide_type": "slide"
    }
   },
   "source": [
    "# Motivation for OnlineStats"
   ]
  },
  {
   "cell_type": "markdown",
   "metadata": {
    "slideshow": {
     "slide_type": "slide"
    }
   },
   "source": [
    "![](4vs.jpg)"
   ]
  },
  {
   "cell_type": "markdown",
   "metadata": {
    "slideshow": {
     "slide_type": "slide"
    }
   },
   "source": [
    "- Statisticians don't have tools to handle all of this\n",
    "- Adapting our favorite algorithms is often nontrivial"
   ]
  },
  {
   "cell_type": "markdown",
   "metadata": {
    "slideshow": {
     "slide_type": "slide"
    }
   },
   "source": [
    "# Types of problems\n",
    "\n",
    "- Easy: Calculate parameter directly\n",
    "- Hard: Calculate parameter indirectly\n",
    "- Impossible: No analytical solution"
   ]
  },
  {
   "cell_type": "markdown",
   "metadata": {
    "slideshow": {
     "slide_type": "slide"
    }
   },
   "source": [
    "# Introducing OnlineStats.jl\n",
    "\n",
    "- Accepts input data piece by piece, not all at once\n",
    "- Algorithms use O(1) memory\n",
    "- Summary statistics to penalized regression"
   ]
  },
  {
   "cell_type": "markdown",
   "metadata": {
    "slideshow": {
     "slide_type": "slide"
    }
   },
   "source": [
    "# Velocity and Volume\n",
    "\n",
    "- Design focus is **velocity**, and we get **volume** thrown in\n",
    "- If we think of fixed-size data as streaming, it means the dataset doesn't need to fit in memory"
   ]
  },
  {
   "cell_type": "markdown",
   "metadata": {
    "slideshow": {
     "slide_type": "slide"
    }
   },
   "source": [
    "# The Basics\n",
    "\n",
    "- Each statistic/model is a type\n",
    "    - `LinReg(10)`, `Variance()`\n",
    "- Each type can be updated with new data\n",
    "    - `fit!(obj, data...)`\n",
    "- Weight types control influence of new observations\n",
    "    - `Variance(ExponentialWeight(.05))`"
   ]
  },
  {
   "cell_type": "markdown",
   "metadata": {
    "slideshow": {
     "slide_type": "slide"
    }
   },
   "source": [
    "# Example: Mean\n",
    "\n",
    "```julia\n",
    "o1 = Mean()\n",
    "o2 = Mean(ExponentialWeight(.1))\n",
    "\n",
    "for yi in y\n",
    "    fit!(o1, yi)\n",
    "    fit!(o2, yi)\n",
    "end\n",
    "```"
   ]
  },
  {
   "cell_type": "markdown",
   "metadata": {
    "slideshow": {
     "slide_type": "slide"
    }
   },
   "source": [
    "# Weight matters: \n",
    "\n",
    "`ExponentialWeight(.1)` vs. `EqualWeight()`\n",
    "\n",
    "![](streamweight.gif)"
   ]
  },
  {
   "cell_type": "markdown",
   "metadata": {
    "slideshow": {
     "slide_type": "slide"
    }
   },
   "source": [
    "# Weight Types\n",
    "- Online mean:\n",
    "\n",
    "$$\\theta^{(t)} = (1 - \\gamma_t) \\; \\theta^{(t-1)} + \\gamma_t \\; x_t$$\n",
    "\n",
    "- For $\\gamma_t = \\frac{1}{t}$, equal to offline mean\n",
    "    - `EqualWeight()`"
   ]
  },
  {
   "cell_type": "markdown",
   "metadata": {
    "slideshow": {
     "slide_type": "slide"
    }
   },
   "source": [
    "# Weight Types\n",
    "\n",
    "![](plt_wt.png)"
   ]
  },
  {
   "cell_type": "markdown",
   "metadata": {
    "slideshow": {
     "slide_type": "slide"
    }
   },
   "source": [
    "# Approximate Statistical Learning\n",
    "\n",
    "- Driving mechanism is *stochastic proximal newton*\n",
    "\n",
    "```julia\n",
    "StatLearn(x, y, model, algorithm, penalty)\n",
    "```"
   ]
  },
  {
   "cell_type": "markdown",
   "metadata": {
    "slideshow": {
     "slide_type": "slide"
    }
   },
   "source": [
    "# Every combination works\n",
    "- `LinearRegression, LogisticRegression, PoissonRegression, QuantileRegression, SVMLike, L1Regression, HuberRegression`\n",
    "- `SGD, Momentum, AdaGrad, ADAM`\n",
    "- `NoPenalty, RidgePenalty, LassoPenalty, ElasticNetPenalty`"
   ]
  },
  {
   "cell_type": "markdown",
   "metadata": {
    "slideshow": {
     "slide_type": "slide"
    }
   },
   "source": [
    "# Example: Logistic Regression\n",
    "\n",
    "- HIGGS dataset from UCI ML Repository\n",
    "- 11,000,000 obs. and 28 predictors\n",
    "- training: 7,000,000 obs.\n",
    "- test: 4,000,000 obs.\n",
    "\n",
    "---"
   ]
  },
  {
   "cell_type": "markdown",
   "metadata": {
    "slideshow": {
     "slide_type": "slide"
    }
   },
   "source": [
    "```julia\n",
    "model = LogisticRegression()\n",
    "penalty = RidgePenalty(.01)\n",
    "\n",
    "o = StatLearn(28, model, penalty)\n",
    "fit!(o, x, y)\n",
    "```"
   ]
  },
  {
   "cell_type": "markdown",
   "metadata": {
    "slideshow": {
     "slide_type": "slide"
    }
   },
   "source": [
    "# Training (7 Million obs.)\n",
    "\n",
    "```julia\n",
    "using OnlineStats, GLM, Distributions\n",
    "\n",
    "@elapsed o = StatLearn(xtrain, ytrain, LogisticRegression())\n",
    "# 2.512757819\n",
    "\n",
    "@elapsed o2 = glm(xtrain, ytrain, Binomial())\n",
    "# 7.12742769\n",
    "```\n",
    "\n"
   ]
  },
  {
   "cell_type": "markdown",
   "metadata": {
    "slideshow": {
     "slide_type": "slide"
    }
   },
   "source": [
    "# Coefficients Over Time\n",
    "![](big.png)"
   ]
  },
  {
   "cell_type": "markdown",
   "metadata": {
    "slideshow": {
     "slide_type": "slide"
    }
   },
   "source": [
    "# What else can OnlineStats do?"
   ]
  },
  {
   "cell_type": "markdown",
   "metadata": {
    "slideshow": {
     "slide_type": "slide"
    }
   },
   "source": [
    "# Exact\n",
    "- mean, variance, extrema, skewness, kurtosis, covariance matrix, linear regression, parametric density estimation (Beta, Categorical, Gamma, LogNormal, Normal, Multinomial, MvNormal)"
   ]
  },
  {
   "cell_type": "markdown",
   "metadata": {
    "slideshow": {
     "slide_type": "slide"
    }
   },
   "source": [
    "# Approximate\n",
    "- Statistical learning with elastic net, K-means clustering, HyperLogLog, quantiles (sgd and online mm), normal mixtures, parametric density estimation (Cauchy), online bootstrapping"
   ]
  },
  {
   "cell_type": "markdown",
   "metadata": {
    "slideshow": {
     "slide_type": "slide"
    }
   },
   "source": [
    "# Thank You\n",
    "\n",
    "- https://github.com/joshday/OnlineStats.jl\n",
    "- github: @joshday\n",
    "- email: jtday2@ncsu.edu"
   ]
  }
 ],
 "metadata": {
  "celltoolbar": "Slideshow",
  "kernelspec": {
   "display_name": "Julia 0.4.7-pre",
   "language": "julia",
   "name": "julia-0.4"
  },
  "language_info": {
   "file_extension": ".jl",
   "mimetype": "application/julia",
   "name": "julia",
   "version": "0.4.7"
  },
  "livereveal": {
   "theme": "serif",
   "transition": "linear"
  }
 },
 "nbformat": 4,
 "nbformat_minor": 0
}
